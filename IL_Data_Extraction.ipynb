{
  "nbformat": 4,
  "nbformat_minor": 0,
  "metadata": {
    "colab": {
      "provenance": [],
      "authorship_tag": "ABX9TyNptcFraC0FizrBtliKhTS4",
      "include_colab_link": true
    },
    "kernelspec": {
      "name": "python3",
      "display_name": "Python 3"
    },
    "language_info": {
      "name": "python"
    }
  },
  "cells": [
    {
      "cell_type": "markdown",
      "metadata": {
        "id": "view-in-github",
        "colab_type": "text"
      },
      "source": [
        "<a href=\"https://colab.research.google.com/github/Thanos002/IL_Measurement/blob/main/IL_Data_Extraction.ipynb\" target=\"_parent\"><img src=\"https://colab.research.google.com/assets/colab-badge.svg\" alt=\"Open In Colab\"/></a>"
      ]
    },
    {
      "cell_type": "code",
      "execution_count": null,
      "metadata": {
        "id": "i0e0Kn_rwXUJ"
      },
      "outputs": [],
      "source": [
        "import requests\n",
        "import json\n",
        "import pandas as pd"
      ]
    },
    {
      "cell_type": "code",
      "source": [
        "def Extract_data (query,tablename):\n",
        "\n",
        "  #url = 'https://api.thegraph.com/subgraphs/name/uniswap/uniswap-v3'\n",
        "  frames = []\n",
        "  skip = 0\n",
        "  allfound = false\n",
        "  while(!allfound):\n",
        "    tmp_query = query%(skip)\n",
        "    r = requests.post(url, json={'query': tmp_query})\n",
        "    json_data = json.loads(r.text)\n",
        "    try:\n",
        "      df_data = json_data['data'][tablename]\n",
        "      df = pd.DataFrame(df_data)\n",
        "      frames.append(df)\n",
        "      skip += 1000\n",
        "      if(df_data < 1000):\n",
        "        allfound = true\n",
        "    except KeyError:\n",
        "      break\n",
        "\n",
        "  result = pd.concat(frames)\n",
        "  return result\n"
      ],
      "metadata": {
        "id": "Zp0xQN70ymd-"
      },
      "execution_count": null,
      "outputs": []
    },
    {
      "cell_type": "code",
      "source": [
        "class Token:\n",
        "  def __init__(self, name, id, type):\n",
        "    self.name = name\n",
        "    self.id = id\n",
        "    self.type = type"
      ],
      "metadata": {
        "id": "sV8UgVC0AWbA"
      },
      "execution_count": null,
      "outputs": []
    },
    {
      "cell_type": "code",
      "source": [
        "class Pool:\n",
        "  def __init__(self, id, fee, token1, token2):\n",
        "    self.id = id\n",
        "    self.group = token1.type + \"/\" + token2.type\n",
        "    self.fee = fee\n",
        "    self.token1 = token1\n",
        "    self.token2 = token2"
      ],
      "metadata": {
        "id": "DxsqLTDlzrLh"
      },
      "execution_count": null,
      "outputs": []
    },
    {
      "cell_type": "code",
      "source": [
        "class PoolContainer:\n",
        "    def __init__(self):\n",
        "        self.pools = []\n",
        "\n",
        "    def add_pool(self, pool):\n",
        "        self.pools.append(pool)\n",
        "\n",
        "    def __iter__(self):\n",
        "        return iter(self.pools)"
      ],
      "metadata": {
        "id": "NNsoq2sMDITD"
      },
      "execution_count": null,
      "outputs": []
    },
    {
      "cell_type": "code",
      "source": [
        "#Tokens\n",
        "dai = Token(\"DAI\",\"0x6b175474e89094c44da98b954eedeac495271d0f\", \"stable\")\n",
        "usdc = Token(\"USDC\", \"0xa0b86991c6218b36c1d19d4a2e9eb0ce3606eb48\", \"stable\")\n",
        "weth = Token(\"WETH\",\"0xc02aaa39b223fe8d0a0e5c4f27ead9083c756cc2\", \"risky\")\n",
        "mkr = Token(\"MKR\",\"0x9f8f72aa9304c8b593d555f12ef6589cc3a579a2\", \"risky\")\n",
        "wbtc = Token(\"WBTC\",\"0x2260fac5e5542a773aa44fbcfedf7c193bc2c599\", \"risky\")"
      ],
      "metadata": {
        "id": "BGrCgcbQALsw"
      },
      "execution_count": null,
      "outputs": []
    },
    {
      "cell_type": "code",
      "source": [
        "# Stable pools:\n",
        "dai_usdc_500 = Pool(\"0x6c6bc977e13df9b0de53b251522280bb72383700\", 500, dai, usdc)\n",
        "dai_usdc_100 = Pool(\"0x5777d92f208679db4b9778590fa3cab3ac9e2168\", 100, dai, usdc)\n",
        "\n",
        "# Stable-risky pools\n",
        "usdc_weth_10000 = Pool(\"0x7bea39867e4169dbe237d55c8242a8f2fcdcc387\", 10000, usdc, weth)\n",
        "usdc_weth_3000 = Pool(\"0x8ad599c3a0ff1de082011efddc58f1908eb6e6d8\", 3000, usdc, weth)\n",
        "usdc_weth_500 = Pool(\"0x88e6A0c2dDD26FEEb64F039a2c41296FcB3f5640\", 500, usdc, weth)\n",
        "usdc_weth_100 = Pool(\"0xe0554a476a092703abdb3ef35c80e0d76d32939f\", 100, usdc, weth)\n",
        "\n",
        "#Risky pools\n",
        "mkr_weth_10000 = Pool(\"0x3afdc5e6dfc0b0a507a8e023c9dce2cafc310316\", 10000, mkr, weth)\n",
        "wbtc_weth_3000 = Pool(\"0xcbcdf9626bc03e24f779434178a73a0b4bad62ed\", 3000, wbtc, weth)\n",
        "wbtc_weth_500 = Pool(\"0x4585fe77225b41b697c938b018e2ac67ac5a20c0\", 500, wbtc, weth)\n"
      ],
      "metadata": {
        "id": "kLHFTXEmzkXz"
      },
      "execution_count": null,
      "outputs": []
    },
    {
      "cell_type": "code",
      "source": [
        "pools_container = PoolContainer()\n",
        "pools_container.add_pool(dai_usdc_500)\n",
        "pools_container.add_pool(dai_usdc_100)\n",
        "pools_container.add_pool(usdc_weth_10000)\n",
        "pools_container.add_pool(usdc_weth_3000)\n",
        "pools_container.add_pool(usdc_weth_500)\n",
        "pools_container.add_pool(usdc_weth_100)\n",
        "pools_container.add_pool(mkr_weth_10000)\n",
        "pools_container.add_pool(wbtc_weth_3000)\n",
        "pools_container.add_pool(wbtc_weth_500)"
      ],
      "metadata": {
        "id": "OJyoshzd0g0l"
      },
      "execution_count": null,
      "outputs": []
    },
    {
      "cell_type": "code",
      "source": [
        "for pool in pools_container:\n",
        "    print(pool.token1.name + \"/\" + pool.token2.name + \"; \" + str(pool.fee))"
      ],
      "metadata": {
        "colab": {
          "base_uri": "https://localhost:8080/"
        },
        "id": "PikTUJYPDhsf",
        "outputId": "f9c12488-8be4-49df-f8f5-0c8dae1077c2"
      },
      "execution_count": null,
      "outputs": [
        {
          "output_type": "stream",
          "name": "stdout",
          "text": [
            "DAI/USDC; 500\n",
            "DAI/USDC; 100\n",
            "USDC/WETH; 10000\n",
            "USDC/WETH; 3000\n",
            "USDC/WETH; 500\n",
            "USDC/WETH; 100\n",
            "MKR/WETH; 10000\n",
            "WBTC/WETH; 3000\n",
            "WBTC/WETH; 500\n"
          ]
        }
      ]
    },
    {
      "cell_type": "code",
      "source": [
        "\n",
        "ZERO = 0\n",
        "Q128 = 2 ** 128\n",
        "Q256 = 2 ** 256\n",
        "\n",
        "def subIn256(x, y):\n",
        "    difference = x - y\n",
        "    if difference < ZERO:\n",
        "        return Q256 + difference\n",
        "    else:\n",
        "        return difference\n",
        "\n",
        "def toBigNumber(value):\n",
        "    return int(value)  # Convert string or number to Python integer, in case large number is in strign format\n",
        "\n",
        "def getFees(feeGrowthGlobal0, feeGrowthGlobal1, feeGrowth0Low, feeGrowth0Hi, feeGrowthInside0, feeGrowth1Low, feeGrowth1Hi, feeGrowthInside1, liquidity, decimals0, decimals1, tickLower, tickUpper, tickCurrent):\n",
        "    feeGrowthGlobal_0 = toBigNumber(feeGrowthGlobal0)\n",
        "    feeGrowthGlobal_1 = toBigNumber(feeGrowthGlobal1)\n",
        "    tickLowerFeeGrowthOutside_0 = toBigNumber(feeGrowth0Low)\n",
        "    tickLowerFeeGrowthOutside_1 = toBigNumber(feeGrowth1Low)\n",
        "    tickUpperFeeGrowthOutside_0 = toBigNumber(feeGrowth0Hi)\n",
        "    tickUpperFeeGrowthOutside_1 = toBigNumber(feeGrowth1Hi)\n",
        "    tickLowerFeeGrowthBelow_0 = ZERO\n",
        "    tickLowerFeeGrowthBelow_1 = ZERO\n",
        "    tickUpperFeeGrowthAbove_0 = ZERO\n",
        "    tickUpperFeeGrowthAbove_1 = ZERO\n",
        "\n",
        "    if tickCurrent >= tickUpper:\n",
        "        tickUpperFeeGrowthAbove_0 = subIn256(feeGrowthGlobal_0, tickUpperFeeGrowthOutside_0)\n",
        "        tickUpperFeeGrowthAbove_1 = subIn256(feeGrowthGlobal_1, tickUpperFeeGrowthOutside_1)\n",
        "    else:\n",
        "        tickUpperFeeGrowthAbove_0 = tickUpperFeeGrowthOutside_0\n",
        "        tickUpperFeeGrowthAbove_1 = tickUpperFeeGrowthOutside_1\n",
        "\n",
        "    if tickCurrent >= tickLower:\n",
        "        tickLowerFeeGrowthBelow_0 = tickLowerFeeGrowthOutside_0\n",
        "        tickLowerFeeGrowthBelow_1 = tickLowerFeeGrowthOutside_1\n",
        "    else:\n",
        "        tickLowerFeeGrowthBelow_0 = subIn256(feeGrowthGlobal_0, tickLowerFeeGrowthOutside_0)\n",
        "        tickLowerFeeGrowthBelow_1 = subIn256(feeGrowthGlobal_1, tickLowerFeeGrowthOutside_1)\n",
        "\n",
        "    fr_t1_0 = subIn256(subIn256(feeGrowthGlobal_0, tickLowerFeeGrowthBelow_0), tickUpperFeeGrowthAbove_0)\n",
        "    fr_t1_1 = subIn256(subIn256(feeGrowthGlobal_1, tickLowerFeeGrowthBelow_1), tickUpperFeeGrowthAbove_1)\n",
        "    feeGrowthInsideLast_0 = toBigNumber(feeGrowthInside0)\n",
        "    feeGrowthInsideLast_1 = toBigNumber(feeGrowthInside1)\n",
        "\n",
        "    uncollectedFees_0 = (liquidity * subIn256(fr_t1_0, feeGrowthInsideLast_0)) // Q128\n",
        "    uncollectedFees_1 = (liquidity * subIn256(fr_t1_1, feeGrowthInsideLast_1)) // Q128\n",
        "\n",
        "    uncollectedFeesAdjusted_0 = uncollectedFees_0 / (10 ** decimals0)\n",
        "    uncollectedFeesAdjusted_1 = uncollectedFees_1 / (10 ** decimals1)\n",
        "    print(f\"Amount fees token 0 in lowest decimal: {int(uncollectedFees_0)}\")\n",
        "    print(f\"Amount fees token 1 in lowest decimal: {int(uncollectedFees_1)}\")\n",
        "    print(f\"Amount fees token 0 Human format: {uncollectedFeesAdjusted_0:.{decimals0}f}\")\n",
        "    print(f\"Amount fees token 1 Human format: {uncollectedFeesAdjusted_1:.{decimals1}f}\")\n"
      ],
      "metadata": {
        "id": "bIfI-GVlbknB"
      },
      "execution_count": null,
      "outputs": []
    },
    {
      "cell_type": "code",
      "source": [
        "getFees(3094836483914812667943230173936420,1,37180414779992829129391081655145,233371140530963296710329726203514,0,1,1,1,10860507277202,6,6,192180,193380,201780)"
      ],
      "metadata": {
        "colab": {
          "base_uri": "https://localhost:8080/"
        },
        "id": "3_RehODJdspw",
        "outputId": "5c77b204-a96d-4420-8132-0a5c36f9aac3"
      },
      "execution_count": null,
      "outputs": [
        {
          "output_type": "stream",
          "name": "stdout",
          "text": [
            "Amount fees token 0 in lowest decimal: 6261655\n",
            "Amount fees token 1 in lowest decimal: 3695639122248373304231208116609338612196379944026111\n",
            "Amount fees token 0 Human format: 6.261655\n",
            "Amount fees token 1 Human format: 3695639122248373590578266900963621657483673600.000000\n"
          ]
        }
      ]
    },
    {
      "cell_type": "code",
      "source": [
        "class LiquidityProvider:\n",
        "    def __init__(self, address):\n",
        "        \"\"\"\n",
        "        Initializes a new LiquidityProvider instance.\n",
        "\n",
        "        Parameters:\n",
        "        address (str): The Ethereum address of the liquidity provider.\n",
        "        \"\"\"\n",
        "        self.address = address\n",
        "        self.positions = []\n",
        "\n",
        "    def add_position(self, position):\n",
        "        \"\"\"\n",
        "        Adds a new position to the liquidity provider's list of positions.\n",
        "\n",
        "        Parameters:\n",
        "        position (Position): The position to be added to this provider.\n",
        "        \"\"\"\n",
        "        self.positions.append(position)\n",
        "        position.provider = self  # Establish the reverse link from Position to LiquidityProvider\n",
        "\n",
        "    def get_positions(self):\n",
        "        \"\"\"\n",
        "        Returns a list of all positions for this liquidity provider.\n",
        "        \"\"\"\n",
        "        return self.positions\n",
        "\n",
        "    def __str__(self):\n",
        "        \"\"\"\n",
        "        Returns a string representation of the LiquidityProvider object.\n",
        "        \"\"\"\n",
        "        return f\"Liquidity Provider Address: {self.address}\"\n",
        "\n",
        "class Event:\n",
        "    def __init__(self, block_number, amount):\n",
        "        \"\"\"\n",
        "        Initializes a new Event instance.\n",
        "\n",
        "        Parameters:\n",
        "        block_number (int): The block number at which the event occurred.\n",
        "        amount (float): The amount of liquidity involved in the event.\n",
        "        \"\"\"\n",
        "        self.block_number = block_number\n",
        "        self.amount = amount\n",
        "\n",
        "    def __str__(self):\n",
        "        \"\"\"\n",
        "        Return a basic representation of the event, should be overridden by subclasses.\n",
        "        \"\"\"\n",
        "        return f\"Event at Block {self.block_number}, Amount: {self.amount}\"\n",
        "\n",
        "class Mint(Event):\n",
        "    def __str__(self):\n",
        "        return f\"Mint: Block {self.block_number}, Amount: {self.amount}\"\n",
        "\n",
        "class Burn(Event):\n",
        "    def __str__(self):\n",
        "        return f\"Burn: Block {self.block_number}, Amount: {self.amount}\"\n",
        "\n",
        "class Add(Event):\n",
        "    def __str__(self):\n",
        "        return f\"Add: Block {self.block_number}, Amount: {self.amount}\"\n",
        "\n",
        "class Remove(Event):\n",
        "    def __str__(self):\n",
        "        return f\"Remove: Block {self.block_number}, Amount: {self.amount}\"\n",
        "\n",
        "class Position:\n",
        "    def __init__(self, provider, events):\n",
        "        \"\"\"\n",
        "        Initializes a new Position instance.\n",
        "\n",
        "        Parameters:\n",
        "        provider (LiquidityProvider): The liquidity provider associated with this position.\n",
        "        events (list of Event): A list of events associated with this position.\n",
        "        \"\"\"\n",
        "        assert len(events) >= 2, \"There must be at least two events for a position.\"\n",
        "        self.collectedFeesToken0\n",
        "        self.provider = provider\n",
        "        self.events = events\n",
        "\n",
        "    def __str__(self):\n",
        "        events_str = \"\\n\".join([str(event) for event in self.events])\n",
        "        return f\"Position for {self.provider}\\nEvents:\\n{events_str}\"\n"
      ],
      "metadata": {
        "id": "iD7U_jx8oZMO"
      },
      "execution_count": null,
      "outputs": []
    }
  ]
}